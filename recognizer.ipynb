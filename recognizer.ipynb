{
 "cells": [
  {
   "cell_type": "code",
   "execution_count": 1,
   "metadata": {},
   "outputs": [
    {
     "name": "stderr",
     "output_type": "stream",
     "text": [
      "C:\\Users\\immon\\anaconda3\\lib\\site-packages\\torchaudio\\extension\\extension.py:13: UserWarning: torchaudio C++ extension is not available.\n",
      "  warnings.warn('torchaudio C++ extension is not available.')\n",
      "Reusing dataset common_voice (C:\\Users\\immon\\.cache\\huggingface\\datasets\\common_voice\\fi\\6.1.0\\0041e06ab061b91d0a23234a2221e87970a19cf3a81b20901474cffffeb7869f)\n",
      "Special tokens have been added in the vocabulary, make sure the associated word embedding are fine-tuned or trained.\n",
      "Loading cached processed dataset at C:\\Users\\immon\\.cache\\huggingface\\datasets\\common_voice\\fi\\6.1.0\\0041e06ab061b91d0a23234a2221e87970a19cf3a81b20901474cffffeb7869f\\cache-e34306c9680dc3af.arrow\n"
     ]
    },
    {
     "name": "stdout",
     "output_type": "stream",
     "text": [
      "Prediction: ['mysteerimies oli oppinut morallinsa taruista elokuvista ja peleistä', 'äänestin mietinnön puolesta n']\n",
      "Reference: ['Mysteerimies oli oppinut moraalinsa taruista, elokuvista ja peleistä.', 'Äänestin mietinnön puolesta!']\n"
     ]
    }
   ],
   "source": [
    "import librosa\n",
    "import torch\n",
    "import torchaudio\n",
    "from datasets import load_dataset\n",
    "from transformers import Wav2Vec2ForCTC, Wav2Vec2Processor\n",
    "import audio2numpy as an\n",
    "\n",
    "\n",
    "test_dataset = load_dataset(\"common_voice\", \"fi\", split=\"test[:2%]\")\n",
    "\n",
    "processor = Wav2Vec2Processor.from_pretrained(\"aapot/wav2vec2-large-xlsr-53-finnish\")\n",
    "model = Wav2Vec2ForCTC.from_pretrained(\"aapot/wav2vec2-large-xlsr-53-finnish\")\n",
    "\n",
    "resampler = lambda sr, y: librosa.resample(y.numpy().squeeze(), sr, 16_000)\n",
    "\n",
    "# Preprocessing the datasets.\n",
    "# We need to read the audio files as arrays\n",
    "def speech_file_to_array_fn(batch):\n",
    "    speech_array, sampling_rate = an.open_audio(batch[\"path\"])\n",
    "    speech_array = torch.tensor(speech_array)\n",
    "    batch[\"speech\"] = resampler(sampling_rate, speech_array).squeeze()\n",
    "    return batch\n",
    "\n",
    "test_dataset = test_dataset.map(speech_file_to_array_fn)\n",
    "inputs = processor(test_dataset[\"speech\"][:2], sampling_rate=16_000, return_tensors=\"pt\", padding=True)\n",
    "\n",
    "with torch.no_grad():\n",
    "    logits = model(inputs.input_values, attention_mask=inputs.attention_mask).logits\n",
    "\n",
    "\n",
    "    \n",
    "predicted_ids = torch.argmax(logits, dim=-1)\n",
    "\n",
    "print(\"Prediction:\", processor.batch_decode(predicted_ids))\n",
    "print(\"Reference:\", test_dataset[\"sentence\"][:2])"
   ]
  },
  {
   "cell_type": "code",
   "execution_count": 2,
   "metadata": {},
   "outputs": [
    {
     "name": "stdout",
     "output_type": "stream",
     "text": [
      "['onko olemassa jonkin laista dokumenttiheiänohjalmasta']\n"
     ]
    }
   ],
   "source": [
    "class SpeechRecognizer:\n",
    "    \n",
    "    def __init__(self, model, processor, device=\"cuda\"):\n",
    "        self.model = model\n",
    "        model.to(device)\n",
    "        self.processor = processor\n",
    "        self.device = device\n",
    "        \n",
    "    def _prepareaudio(self, path : str):\n",
    "        # load audio\n",
    "        # regex\n",
    "        audio, sr = an.open_audio(path)\n",
    "        try:\n",
    "            audio = audio[:, 1]\n",
    "        except:\n",
    "            pass\n",
    "        audio = torch.tensor(audio)\n",
    "        audio = librosa.resample(audio.numpy().squeeze(), sr, 16_000)\n",
    "        return audio\n",
    "    \n",
    "    def decode(self, output: torch.tensor, mode: str = \"argmax\"):\n",
    "        \n",
    "        if mode==\"argmax\":\n",
    "            pred_ids = torch.argmax(output, dim=-1)\n",
    "            \n",
    "        return pred_ids\n",
    "    \n",
    "    \n",
    "    @torch.no_grad()\n",
    "    def __call__(self, path: str):\n",
    "        audio = self._prepareaudio(path)\n",
    "        inputs = processor(audio, sampling_rate=16_000, return_tensors=\"pt\", padding=True)\n",
    "        logits = model(inputs.input_values.to(self.device), attention_mask=inputs.attention_mask.to(self.device)).logits\n",
    "        pred_ids = self.decode(logits)\n",
    "        prediction = processor.batch_decode(pred_ids)\n",
    "        return prediction, logits\n",
    "    \n",
    "recog = SpeechRecognizer(model, processor, device=\"cuda\")\n",
    "\n",
    "pred, logits = recog(\"data/1aaefe12-a79e-493f-9dff-c238482632f2.mp3\")\n",
    "logits = logits.squeeze(0)\n",
    "#pred = torch.argmax(logits[:,:, :], dim=-1)\n",
    "#pred = processor.batch_decode(pred)\n",
    "print(pred)"
   ]
  },
  {
   "cell_type": "code",
   "execution_count": 3,
   "metadata": {},
   "outputs": [
    {
     "name": "stdout",
     "output_type": "stream",
     "text": [
      "{'b': 0, 'y': 1, 'w': 2, 'u': 3, 'a': 4, 'r': 5, 'k': 6, 'e': 7, 'ö': 8, 'j': 9, 'm': 11, 'ä': 12, 'i': 13, 'h': 14, 'x': 15, 't': 16, 'z': 17, 'l': 18, 'c': 19, 'v': 20, 'f': 21, 'p': 22, 'q': 23, 'o': 24, 'n': 25, 'd': 26, 's': 27, 'g': 28, '|': 10, '[UNK]': 29, '[PAD]': 30, '<s>': 31, '</s>': 32}\n"
     ]
    }
   ],
   "source": [
    "#help(processor.tokenizer)\n",
    "vocab = processor.tokenizer.get_vocab()\n",
    "print(vocab)"
   ]
  },
  {
   "cell_type": "markdown",
   "metadata": {},
   "source": [
    "# argmax decoder\n",
    "1. first take argmax\n",
    "2. merge repeats \n",
    "3. remove blanks\n",
    "4. map ids to letters\n",
    "5. change word separation to space"
   ]
  },
  {
   "cell_type": "code",
   "execution_count": 4,
   "metadata": {},
   "outputs": [
    {
     "ename": "TypeError",
     "evalue": "can't convert cuda:0 device type tensor to numpy. Use Tensor.cpu() to copy the tensor to host memory first.",
     "output_type": "error",
     "traceback": [
      "\u001b[1;31m---------------------------------------------------------------------------\u001b[0m",
      "\u001b[1;31mTypeError\u001b[0m                                 Traceback (most recent call last)",
      "\u001b[1;32m<ipython-input-4-ba64e214b4a5>\u001b[0m in \u001b[0;36m<module>\u001b[1;34m\u001b[0m\n\u001b[0;32m     33\u001b[0m \u001b[1;33m\u001b[0m\u001b[0m\n\u001b[0;32m     34\u001b[0m \u001b[1;33m\u001b[0m\u001b[0m\n\u001b[1;32m---> 35\u001b[1;33m \u001b[0margmax_decode\u001b[0m\u001b[1;33m(\u001b[0m\u001b[0mlogits\u001b[0m\u001b[1;33m,\u001b[0m \u001b[0mdd\u001b[0m\u001b[1;33m)\u001b[0m\u001b[1;33m\u001b[0m\u001b[1;33m\u001b[0m\u001b[0m\n\u001b[0m",
      "\u001b[1;32m<ipython-input-4-ba64e214b4a5>\u001b[0m in \u001b[0;36margmax_decode\u001b[1;34m(probs, vocab, blank_id)\u001b[0m\n\u001b[0;32m     20\u001b[0m     \u001b[1;31m#argmax\u001b[0m\u001b[1;33m\u001b[0m\u001b[1;33m\u001b[0m\u001b[1;33m\u001b[0m\u001b[0m\n\u001b[0;32m     21\u001b[0m     \u001b[0mpred_ids\u001b[0m \u001b[1;33m=\u001b[0m \u001b[0mtorch\u001b[0m\u001b[1;33m.\u001b[0m\u001b[0margmax\u001b[0m\u001b[1;33m(\u001b[0m\u001b[0mprobs\u001b[0m\u001b[1;33m,\u001b[0m \u001b[0mdim\u001b[0m\u001b[1;33m=\u001b[0m\u001b[1;33m-\u001b[0m\u001b[1;36m1\u001b[0m\u001b[1;33m)\u001b[0m\u001b[1;33m\u001b[0m\u001b[1;33m\u001b[0m\u001b[0m\n\u001b[1;32m---> 22\u001b[1;33m     \u001b[0mpred_ids\u001b[0m \u001b[1;33m=\u001b[0m \u001b[0mpred_ids\u001b[0m\u001b[1;33m.\u001b[0m\u001b[0mnumpy\u001b[0m\u001b[1;33m(\u001b[0m\u001b[1;33m)\u001b[0m\u001b[1;33m\u001b[0m\u001b[1;33m\u001b[0m\u001b[0m\n\u001b[0m\u001b[0;32m     23\u001b[0m     \u001b[1;31m#merge repeats\u001b[0m\u001b[1;33m\u001b[0m\u001b[1;33m\u001b[0m\u001b[1;33m\u001b[0m\u001b[0m\n\u001b[0;32m     24\u001b[0m     \u001b[0mmerged\u001b[0m \u001b[1;33m=\u001b[0m \u001b[0mnp\u001b[0m\u001b[1;33m.\u001b[0m\u001b[0marray\u001b[0m\u001b[1;33m(\u001b[0m\u001b[1;33m[\u001b[0m\u001b[0mk\u001b[0m \u001b[1;32mfor\u001b[0m \u001b[0mk\u001b[0m\u001b[1;33m,\u001b[0m\u001b[0m_\u001b[0m \u001b[1;32min\u001b[0m \u001b[0mgroupby\u001b[0m\u001b[1;33m(\u001b[0m\u001b[0mpred_ids\u001b[0m\u001b[1;33m)\u001b[0m\u001b[1;33m]\u001b[0m\u001b[1;33m)\u001b[0m\u001b[1;33m\u001b[0m\u001b[1;33m\u001b[0m\u001b[0m\n",
      "\u001b[1;31mTypeError\u001b[0m: can't convert cuda:0 device type tensor to numpy. Use Tensor.cpu() to copy the tensor to host memory first."
     ]
    }
   ],
   "source": [
    "from itertools import groupby\n",
    "import numpy as np\n",
    "def invert_dict(dict):\n",
    "    return {v: k for k, v in dict.items()}\n",
    "\n",
    "dd = invert_dict(vocab)\n",
    "\n",
    "def argmax_decode(probs, vocab, blank_id = 30):\n",
    "    \"\"\"\n",
    "    argmax decoder for ctc\n",
    "    uses a specific vocab\n",
    "    \n",
    "    inputs: probs: torch tensor of shape T,V\n",
    "            vocab: vocab mapping ids to characters\n",
    "            blank_id: the id of a blank token\n",
    "            \n",
    "    output: decoded sequence of characters\n",
    "    \n",
    "    \"\"\"\n",
    "    #argmax\n",
    "    pred_ids = torch.argmax(probs, dim=-1)\n",
    "    pred_ids = pred_ids.numpy()\n",
    "    #merge repeats\n",
    "    merged = np.array([k for k,_ in groupby(pred_ids)])\n",
    "    #remove blanks\n",
    "    result = merged[merged!=30]\n",
    "    #map with dictionary\n",
    "    result = [dd[i] for i in result]\n",
    "    #remove extra spaces\n",
    "    result = result\n",
    "    \n",
    "    return \"\".join(result).replace('|', ' ')\n",
    "    \n",
    "    \n",
    "argmax_decode(logits, dd)"
   ]
  },
  {
   "cell_type": "code",
   "execution_count": 5,
   "metadata": {},
   "outputs": [
    {
     "data": {
      "text/plain": [
       "[('b', 0),\n",
       " ('y', 1),\n",
       " ('w', 2),\n",
       " ('u', 3),\n",
       " ('a', 4),\n",
       " ('r', 5),\n",
       " ('k', 6),\n",
       " ('e', 7),\n",
       " ('ö', 8),\n",
       " ('j', 9),\n",
       " ('|', 10),\n",
       " ('m', 11),\n",
       " ('ä', 12),\n",
       " ('i', 13),\n",
       " ('h', 14),\n",
       " ('x', 15),\n",
       " ('t', 16),\n",
       " ('z', 17),\n",
       " ('l', 18),\n",
       " ('c', 19),\n",
       " ('v', 20),\n",
       " ('f', 21),\n",
       " ('p', 22),\n",
       " ('q', 23),\n",
       " ('o', 24),\n",
       " ('n', 25),\n",
       " ('d', 26),\n",
       " ('s', 27),\n",
       " ('g', 28),\n",
       " ('[UNK]', 29),\n",
       " ('[PAD]', 30),\n",
       " ('<s>', 31),\n",
       " ('</s>', 32)]"
      ]
     },
     "execution_count": 5,
     "metadata": {},
     "output_type": "execute_result"
    }
   ],
   "source": [
    "vals = sorted(vocab.items(), key = lambda x:x[1])\n",
    "vals"
   ]
  },
  {
   "cell_type": "code",
   "execution_count": 6,
   "metadata": {},
   "outputs": [],
   "source": [
    "import collections\n",
    "NEG_INF = -float(\"inf\")\n",
    "\n",
    "\n",
    "def map_to_chars(ids, vocab):\n",
    "    result = [vocab[i] for i in ids]\n",
    "    return \"\".join(result).replace('|', ' ')"
   ]
  },
  {
   "cell_type": "code",
   "execution_count": 7,
   "metadata": {},
   "outputs": [
    {
     "data": {
      "text/html": [
       "\n",
       "                <audio  controls=\"controls\" >\n",
       "                    <source src=\"data:audio/mpeg;base64,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\" type=\"audio/mpeg\" />\n",
       "                    Your browser does not support the audio element.\n",
       "                </audio>\n",
       "              "
      ],
      "text/plain": [
       "<IPython.lib.display.Audio object>"
      ]
     },
     "execution_count": 7,
     "metadata": {},
     "output_type": "execute_result"
    }
   ],
   "source": [
    "import IPython.display as ipd\n",
    "ipd.Audio(\"data/53a20c7a-dc9d-4bcc-a9fd-531d4e9858e2.mp3\")"
   ]
  },
  {
   "cell_type": "code",
   "execution_count": 25,
   "metadata": {},
   "outputs": [
    {
     "name": "stdout",
     "output_type": "stream",
     "text": [
      "(234, 31)\n",
      "vaan julja kakskit kaksivuvuotias sekoikeana piskeli iväiskyldän yliopistosta \n",
      "vaan julja kakskit kaksitvuvuotias sekoikeana piskeli iväskyldän yliopistosta \n",
      "0.20743775367736816\n",
      "0.05203056335449219\n"
     ]
    }
   ],
   "source": [
    "from sample_decode import decode\n",
    "import time\n",
    "\n",
    "t1 = time.time()\n",
    "pred, logits = recog(\"data/31f7bb06-b9f2-41b8-9d0d-edb956fa1a97.mp3\")\n",
    "t2 = time.time()\n",
    "logits = logits.squeeze(0)\n",
    "print(logits.cpu().numpy().shape)\n",
    "t3 = time.time()\n",
    "ids = decode(logits.softmax(dim=1).cpu().numpy(), beam_size=10, blank=30, prune_t = 0.00001)\n",
    "t4 = time.time()\n",
    "print(map_to_chars(ids[0], dd))\n",
    "print(argmax_decode(logits.cpu(), dd))\n",
    "print(t2-t1)\n",
    "print(t4-t3)"
   ]
  },
  {
   "cell_type": "code",
   "execution_count": null,
   "metadata": {},
   "outputs": [],
   "source": []
  }
 ],
 "metadata": {
  "kernelspec": {
   "display_name": "Python 3",
   "language": "python",
   "name": "python3"
  },
  "language_info": {
   "codemirror_mode": {
    "name": "ipython",
    "version": 3
   },
   "file_extension": ".py",
   "mimetype": "text/x-python",
   "name": "python",
   "nbconvert_exporter": "python",
   "pygments_lexer": "ipython3",
   "version": "3.8.5"
  }
 },
 "nbformat": 4,
 "nbformat_minor": 5
}
