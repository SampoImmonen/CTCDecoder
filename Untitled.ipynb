{
 "cells": [
  {
   "cell_type": "markdown",
   "metadata": {},
   "source": [
    "# First loop over time steps\n",
    "# loop over each symbol\n",
    "# compute score and collapse \n",
    "# after loop keep k most likely\n",
    "# Add language model support\n",
    "\n",
    "\n"
   ]
  },
  {
   "cell_type": "code",
   "execution_count": 1,
   "metadata": {},
   "outputs": [
    {
     "name": "stdout",
     "output_type": "stream",
     "text": [
      "[seq(seq='', score=0), seq(seq='', score=0)]\n",
      "tensor([0.0757, 0.0488, 0.8203, 0.0304, 0.0248])\n",
      "tensor([0.3798, 0.1317, 0.2396, 0.1044, 0.1445])\n",
      "tensor([0.0479, 0.8112, 0.1134, 0.0156, 0.0120])\n",
      "tensor([0.1485, 0.0864, 0.1944, 0.5199, 0.0508])\n",
      "tensor([0.7141, 0.0805, 0.0271, 0.0586, 0.1198])\n",
      "tensor([0.0677, 0.1004, 0.4720, 0.1967, 0.1633])\n",
      "tensor([0.1672, 0.1178, 0.0845, 0.4536, 0.1769])\n",
      "tensor([0.1317, 0.1691, 0.4375, 0.0729, 0.1889])\n",
      "tensor([0.1865, 0.2876, 0.0945, 0.2041, 0.2272])\n",
      "tensor([0.1594, 0.2665, 0.3629, 0.0166, 0.1946])\n"
     ]
    }
   ],
   "source": [
    "import torch\n",
    "from collections import namedtuple \n",
    "\n",
    "seq = namedtuple('seq', ('seq', 'score'))\n",
    "seqs = [seq('', 0) for _ in range(2)]\n",
    "print(seqs)\n",
    "a = torch.randn(5,10).softmax(dim=0)\n",
    "\n",
    "for row in a.T:\n",
    "    print(row)"
   ]
  },
  {
   "cell_type": "code",
   "execution_count": 2,
   "metadata": {},
   "outputs": [
    {
     "ename": "NameError",
     "evalue": "name 'symbols' is not defined",
     "output_type": "error",
     "traceback": [
      "\u001b[1;31m---------------------------------------------------------------------------\u001b[0m",
      "\u001b[1;31mNameError\u001b[0m                                 Traceback (most recent call last)",
      "\u001b[1;32m<ipython-input-2-2fe246e9b694>\u001b[0m in \u001b[0;36m<module>\u001b[1;34m\u001b[0m\n\u001b[0;32m      4\u001b[0m \u001b[0moutput\u001b[0m \u001b[1;33m=\u001b[0m \u001b[0ma\u001b[0m\u001b[1;33m.\u001b[0m\u001b[0mT\u001b[0m\u001b[1;33m\u001b[0m\u001b[1;33m\u001b[0m\u001b[0m\n\u001b[0;32m      5\u001b[0m \u001b[1;32mfor\u001b[0m \u001b[0mstep\u001b[0m \u001b[1;32min\u001b[0m \u001b[0moutput\u001b[0m\u001b[1;33m:\u001b[0m\u001b[1;33m\u001b[0m\u001b[1;33m\u001b[0m\u001b[0m\n\u001b[1;32m----> 6\u001b[1;33m     \u001b[1;32mfor\u001b[0m \u001b[0msymbol\u001b[0m \u001b[1;32min\u001b[0m \u001b[0msymbols\u001b[0m\u001b[1;33m:\u001b[0m\u001b[1;33m\u001b[0m\u001b[1;33m\u001b[0m\u001b[0m\n\u001b[0m\u001b[0;32m      7\u001b[0m         \u001b[0mscore\u001b[0m\u001b[1;33m\u001b[0m\u001b[1;33m\u001b[0m\u001b[0m\n",
      "\u001b[1;31mNameError\u001b[0m: name 'symbols' is not defined"
     ]
    }
   ],
   "source": [
    "#init seqs to empty with 0 score\n",
    "seqs = []\n",
    "# loop over time steps\n",
    "output = a.T\n",
    "for step in output:\n",
    "    for symbol in symbols:\n",
    "        score"
   ]
  },
  {
   "cell_type": "code",
   "execution_count": 4,
   "metadata": {},
   "outputs": [
    {
     "name": "stderr",
     "output_type": "stream",
     "text": [
      "Reusing dataset common_voice (C:\\Users\\immon\\.cache\\huggingface\\datasets\\common_voice\\fi\\6.1.0\\0041e06ab061b91d0a23234a2221e87970a19cf3a81b20901474cffffeb7869f)\n",
      "Special tokens have been added in the vocabulary, make sure the associated word embedding are fine-tuned or trained.\n",
      "Loading cached processed dataset at C:\\Users\\immon\\.cache\\huggingface\\datasets\\common_voice\\fi\\6.1.0\\0041e06ab061b91d0a23234a2221e87970a19cf3a81b20901474cffffeb7869f\\cache-e34306c9680dc3af.arrow\n"
     ]
    },
    {
     "name": "stdout",
     "output_type": "stream",
     "text": [
      "Prediction: ['mysteerimies oli oppinut morallinsa taruista elokuvista ja peleistä', 'äänestin mietinnön puolesta n']\n",
      "Reference: ['Mysteerimies oli oppinut moraalinsa taruista, elokuvista ja peleistä.', 'Äänestin mietinnön puolesta!']\n"
     ]
    }
   ],
   "source": [
    "import librosa\n",
    "import torch\n",
    "import torchaudio\n",
    "from datasets import load_dataset\n",
    "from transformers import Wav2Vec2ForCTC, Wav2Vec2Processor\n",
    "import audio2numpy as an\n",
    "\n",
    "\n",
    "test_dataset = load_dataset(\"common_voice\", \"fi\", split=\"test[:2%]\")\n",
    "\n",
    "processor = Wav2Vec2Processor.from_pretrained(\"aapot/wav2vec2-large-xlsr-53-finnish\")\n",
    "model = Wav2Vec2ForCTC.from_pretrained(\"aapot/wav2vec2-large-xlsr-53-finnish\")\n",
    "\n",
    "resampler = lambda sr, y: librosa.resample(y.numpy().squeeze(), sr, 16_000)\n",
    "\n",
    "# Preprocessing the datasets.\n",
    "# We need to read the audio files as arrays\n",
    "def speech_file_to_array_fn(batch):\n",
    "    speech_array, sampling_rate = an.open_audio(batch[\"path\"])\n",
    "    speech_array = torch.tensor(speech_array)\n",
    "    batch[\"speech\"] = resampler(sampling_rate, speech_array).squeeze()\n",
    "    return batch\n",
    "\n",
    "test_dataset = test_dataset.map(speech_file_to_array_fn)\n",
    "inputs = processor(test_dataset[\"speech\"][:2], sampling_rate=16_000, return_tensors=\"pt\", padding=True)\n",
    "\n",
    "with torch.no_grad():\n",
    "    logits = model(inputs.input_values, attention_mask=inputs.attention_mask).logits\n",
    "\n",
    "\n",
    "    \n",
    "predicted_ids = torch.argmax(logits, dim=-1)\n",
    "\n",
    "print(\"Prediction:\", processor.batch_decode(predicted_ids))\n",
    "print(\"Reference:\", test_dataset[\"sentence\"][:2])"
   ]
  },
  {
   "cell_type": "code",
   "execution_count": 5,
   "metadata": {},
   "outputs": [
    {
     "name": "stdout",
     "output_type": "stream",
     "text": [
      "['vaan julja kakskit kaksitvuvuotias sekoikeana piskeli iväskyldän yliopistosta']\n"
     ]
    }
   ],
   "source": [
    "class SpeechRecognizer:\n",
    "    \n",
    "    def __init__(self, model, processor, device=\"cpu\"):\n",
    "        self.model = model\n",
    "        model.to(device)\n",
    "        self.processor = processor\n",
    "        self.device = device\n",
    "        \n",
    "    def _prepareaudio(self, path : str):\n",
    "        # load audio\n",
    "        # regex\n",
    "        audio, sr = an.open_audio(path)\n",
    "        audio = audio[:, 1]\n",
    "        audio = torch.tensor(audio)\n",
    "        audio = librosa.resample(audio.numpy().squeeze(), sr, 16_000)\n",
    "        return audio\n",
    "    \n",
    "    def decode(self, output: torch.tensor, mode: str = \"argmax\"):\n",
    "        \n",
    "        if mode==\"argmax\":\n",
    "            pred_ids = torch.argmax(output, dim=-1)\n",
    "            \n",
    "        return pred_ids\n",
    "    \n",
    "    \n",
    "    @torch.no_grad()\n",
    "    def __call__(self, path: str):\n",
    "        audio = self._prepareaudio(path)\n",
    "        inputs = processor(audio, sampling_rate=16_000, return_tensors=\"pt\", padding=True)\n",
    "        logits = model(inputs.input_values.to(self.device), attention_mask=inputs.attention_mask.to(self.device)).logits\n",
    "        pred_ids = self.decode(logits)\n",
    "        prediction = processor.batch_decode(pred_ids)\n",
    "        return prediction, logits\n",
    "    \n",
    "recog = SpeechRecognizer(model, processor, device=\"cuda\")\n",
    "\n",
    "pred, logits = recog(\"data/31f7bb06-b9f2-41b8-9d0d-edb956fa1a97.mp3\")\n",
    "print(pred)"
   ]
  },
  {
   "cell_type": "code",
   "execution_count": null,
   "metadata": {},
   "outputs": [],
   "source": []
  }
 ],
 "metadata": {
  "kernelspec": {
   "display_name": "Python 3",
   "language": "python",
   "name": "python3"
  },
  "language_info": {
   "codemirror_mode": {
    "name": "ipython",
    "version": 3
   },
   "file_extension": ".py",
   "mimetype": "text/x-python",
   "name": "python",
   "nbconvert_exporter": "python",
   "pygments_lexer": "ipython3",
   "version": "3.8.5"
  }
 },
 "nbformat": 4,
 "nbformat_minor": 5
}
