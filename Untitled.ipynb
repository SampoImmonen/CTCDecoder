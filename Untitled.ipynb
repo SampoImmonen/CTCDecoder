{
 "cells": [
  {
   "cell_type": "markdown",
   "id": "97e30c51",
   "metadata": {},
   "source": [
    "# Notebook to prototype evaluation script for different decoders"
   ]
  },
  {
   "cell_type": "code",
   "execution_count": 3,
   "id": "d2365e08",
   "metadata": {},
   "outputs": [
    {
     "name": "stderr",
     "output_type": "stream",
     "text": [
      "Reusing dataset common_voice (/home/sampo/.cache/huggingface/datasets/common_voice/fi/6.1.0/0041e06ab061b91d0a23234a2221e87970a19cf3a81b20901474cffffeb7869f)\n",
      "Special tokens have been added in the vocabulary, make sure the associated word embedding are fine-tuned or trained.\n",
      "Loading cached processed dataset at /home/sampo/.cache/huggingface/datasets/common_voice/fi/6.1.0/0041e06ab061b91d0a23234a2221e87970a19cf3a81b20901474cffffeb7869f/cache-01e1ce8e6f9f2ae9.arrow\n"
     ]
    },
    {
     "data": {
      "application/vnd.jupyter.widget-view+json": {
       "model_id": "06dccd232e334f96b05ae80d7e8c6631",
       "version_major": 2,
       "version_minor": 0
      },
      "text/plain": [
       "HBox(children=(FloatProgress(value=0.0, max=54.0), HTML(value='')))"
      ]
     },
     "metadata": {},
     "output_type": "display_data"
    },
    {
     "name": "stdout",
     "output_type": "stream",
     "text": [
      "\n",
      "WER: 32.378771\n"
     ]
    }
   ],
   "source": [
    "import librosa\n",
    "import torch\n",
    "import torchaudio\n",
    "from datasets import load_dataset, load_metric\n",
    "from transformers import Wav2Vec2ForCTC, Wav2Vec2Processor\n",
    "import re\n",
    "\n",
    "test_dataset = load_dataset(\"common_voice\", \"fi\", split=\"test\")\n",
    "wer = load_metric(\"wer\")\n",
    "\n",
    "processor = Wav2Vec2Processor.from_pretrained(\"aapot/wav2vec2-large-xlsr-53-finnish\")\n",
    "model = Wav2Vec2ForCTC.from_pretrained(\"aapot/wav2vec2-large-xlsr-53-finnish\")\n",
    "model.to(\"cuda\")\n",
    "\n",
    "chars_to_ignore_regex = '[\\,\\?\\.\\!\\-\\;\\:\\\"\\“\\%\\‘\\”\\�\\'\\...\\…\\–\\é]'\n",
    "resampler = lambda sr, y: librosa.resample(y.numpy().squeeze(), sr, 16_000)\n",
    "\n",
    "\n",
    "def speech_file_to_array_fn(batch):\n",
    "    batch[\"sentence\"] = re.sub(chars_to_ignore_regex, '', batch[\"sentence\"]).lower()\n",
    "    speech_array, sampling_rate = torchaudio.load(batch[\"path\"])\n",
    "    batch[\"speech\"] = resampler(sampling_rate, speech_array).squeeze()\n",
    "    return batch\n",
    "\n",
    "def evaluate(batch):\n",
    "    inputs = processor(batch[\"speech\"], sampling_rate=16_000, return_tensors=\"pt\", padding=True)\n",
    "\n",
    "    with torch.no_grad():\n",
    "        logits = model(inputs.input_values.to(\"cuda\"), attention_mask=inputs.attention_mask.to(\"cuda\")).logits\n",
    "\n",
    "    pred_ids = torch.argmax(logits, dim=-1)\n",
    "    batch[\"pred_strings\"] = processor.batch_decode(pred_ids)\n",
    "    return batch\n",
    "\n",
    "\n",
    "test_dataset = test_dataset.map(speech_file_to_array_fn)\n",
    "result = test_dataset.map(evaluate, batched=True, batch_size=8)\n",
    "print(\"WER: {:2f}\".format(100 * wer.compute(predictions=result[\"pred_strings\"], references=result[\"sentence\"])))"
   ]
  },
  {
   "cell_type": "code",
   "execution_count": 2,
   "id": "f7d4e1b9",
   "metadata": {},
   "outputs": [
    {
     "name": "stdout",
     "output_type": "stream",
     "text": [
      "None\n",
      "tensor([[[[-0.0062, -0.0110, -0.0154, -0.0117, -0.0147],\n",
      "          [-0.0037, -0.0086, -0.0123, -0.0088, -0.0119],\n",
      "          [-0.0024, -0.0066, -0.0102, -0.0053, -0.0065],\n",
      "          [-0.0049, -0.0079, -0.0096, -0.0049, -0.0080],\n",
      "          [-0.0067, -0.0088, -0.0089, -0.0035, -0.0075]]],\n",
      "\n",
      "\n",
      "        [[[-0.0062, -0.0110, -0.0154, -0.0117, -0.0147],\n",
      "          [-0.0037, -0.0086, -0.0123, -0.0088, -0.0119],\n",
      "          [-0.0024, -0.0066, -0.0102, -0.0053, -0.0065],\n",
      "          [-0.0049, -0.0079, -0.0096, -0.0049, -0.0080],\n",
      "          [-0.0067, -0.0088, -0.0089, -0.0035, -0.0075]]],\n",
      "\n",
      "\n",
      "        [[[-0.0062, -0.0110, -0.0154, -0.0117, -0.0147],\n",
      "          [-0.0037, -0.0086, -0.0123, -0.0088, -0.0119],\n",
      "          [-0.0024, -0.0066, -0.0102, -0.0053, -0.0065],\n",
      "          [-0.0049, -0.0079, -0.0096, -0.0049, -0.0080],\n",
      "          [-0.0067, -0.0088, -0.0089, -0.0035, -0.0075]]]])\n"
     ]
    }
   ],
   "source": [
    "import torch\n",
    "# __init__\n",
    "\n",
    "ic = 1\n",
    "oc = 3\n",
    "kernel = 5\n",
    "\n",
    "\n",
    "conv = torch.nn.Conv2d(ic, oc, kernel)\n",
    "print(conv.weight.grad)\n",
    "# forward = \n",
    "\n",
    "mask = torch.ones_like(conv.weight.data)\n",
    "x = torch.randn(1,1,28,28)\n",
    "out = torch.nn.functional.conv2d(x, conv.weight*mask)\n",
    "\n",
    "\n",
    "loss = out.mean()\n",
    "loss.backward()\n",
    "\n",
    "print(conv.weight.grad)"
   ]
  }
 ],
 "metadata": {
  "kernelspec": {
   "display_name": "Python 3",
   "language": "python",
   "name": "python3"
  },
  "language_info": {
   "codemirror_mode": {
    "name": "ipython",
    "version": 3
   },
   "file_extension": ".py",
   "mimetype": "text/x-python",
   "name": "python",
   "nbconvert_exporter": "python",
   "pygments_lexer": "ipython3",
   "version": "3.8.5"
  }
 },
 "nbformat": 4,
 "nbformat_minor": 5
}
